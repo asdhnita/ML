{
 "cells": [
  {
   "cell_type": "code",
   "execution_count": 1,
   "metadata": {},
   "outputs": [],
   "source": [
    "import numpy as np\n",
    "import matplotlib.pyplot as plt\n",
    "import pandas as pd\n",
    "import warnings\n",
    "warnings.filterwarnings('ignore')"
   ]
  },
  {
   "cell_type": "code",
   "execution_count": 2,
   "metadata": {},
   "outputs": [],
   "source": [
    "data = pd.read_csv(\"D:/train.csv\")"
   ]
  },
  {
   "cell_type": "code",
   "execution_count": 17,
   "metadata": {},
   "outputs": [
    {
     "name": "stdout",
     "output_type": "stream",
     "text": [
      "   PassengerId  Survived  Pclass  \\\n",
      "0            1         0       3   \n",
      "1            2         1       1   \n",
      "2            3         1       3   \n",
      "3            4         1       1   \n",
      "4            5         0       3   \n",
      "\n",
      "                                                Name     Sex   Age  SibSp  \\\n",
      "0                            Braund, Mr. Owen Harris    male  22.0      1   \n",
      "1  Cumings, Mrs. John Bradley (Florence Briggs Th...  female  38.0      1   \n",
      "2                             Heikkinen, Miss. Laina  female  26.0      0   \n",
      "3       Futrelle, Mrs. Jacques Heath (Lily May Peel)  female  35.0      1   \n",
      "4                           Allen, Mr. William Henry    male  35.0      0   \n",
      "\n",
      "   Parch            Ticket     Fare Cabin Embarked  \n",
      "0      0         A/5 21171   7.2500   NaN        S  \n",
      "1      0          PC 17599  71.2833   C85        C  \n",
      "2      0  STON/O2. 3101282   7.9250   NaN        S  \n",
      "3      0            113803  53.1000  C123        S  \n",
      "4      0            373450   8.0500   NaN        S  \n"
     ]
    }
   ],
   "source": [
    "%matplotlib inline\n",
    "import seaborn\n",
    "seaborn.set()\n",
    "print (data.head())"
   ]
  },
  {
   "cell_type": "code",
   "execution_count": 39,
   "metadata": {},
   "outputs": [],
   "source": [
    "survived_class = data[data['Survived']==1]['Pclass'].value_counts()"
   ]
  },
  {
   "cell_type": "code",
   "execution_count": 40,
   "metadata": {},
   "outputs": [
    {
     "name": "stdout",
     "output_type": "stream",
     "text": [
      "1    136\n",
      "3    119\n",
      "2     87\n",
      "Name: Pclass, dtype: int64\n"
     ]
    }
   ],
   "source": [
    "print (survived_class)"
   ]
  },
  {
   "cell_type": "code",
   "execution_count": 42,
   "metadata": {},
   "outputs": [],
   "source": [
    "dead_class = data[data['Survived']==0]['Pclass'].value_counts()"
   ]
  },
  {
   "cell_type": "code",
   "execution_count": 43,
   "metadata": {},
   "outputs": [
    {
     "name": "stdout",
     "output_type": "stream",
     "text": [
      "3    372\n",
      "2     97\n",
      "1     80\n",
      "Name: Pclass, dtype: int64\n"
     ]
    }
   ],
   "source": [
    "print (dead_class)"
   ]
  },
  {
   "cell_type": "code",
   "execution_count": 44,
   "metadata": {},
   "outputs": [],
   "source": [
    "df_class = pd.DataFrame([survived_class,dead_class])"
   ]
  },
  {
   "cell_type": "code",
   "execution_count": 46,
   "metadata": {},
   "outputs": [],
   "source": [
    "df_class.index = ['Survived','Dead']"
   ]
  },
  {
   "cell_type": "code",
   "execution_count": 47,
   "metadata": {},
   "outputs": [
    {
     "name": "stdout",
     "output_type": "stream",
     "text": [
      "            1   2    3\n",
      "Survived  136  87  119\n",
      "Dead       80  97  372\n"
     ]
    }
   ],
   "source": [
    "print (df_class)"
   ]
  },
  {
   "cell_type": "code",
   "execution_count": 48,
   "metadata": {},
   "outputs": [
    {
     "data": {
      "text/plain": [
       "<matplotlib.axes._subplots.AxesSubplot at 0x16e2b544438>"
      ]
     },
     "execution_count": 48,
     "metadata": {},
     "output_type": "execute_result"
    },
    {
     "data": {
      "image/png": "[encoded data removed]",
      "text/plain": [
       "<Figure size 432x288 with 1 Axes>"
      ]
     },
     "metadata": {},
     "output_type": "display_data"
    }
   ],
   "source": [
    "df_class.plot(kind='bar',stacked=True,title='Survived/Dead by PClass')"
   ]
  },
  {
   "cell_type": "code",
   "execution_count": 51,
   "metadata": {},
   "outputs": [
    {
     "name": "stdout",
     "output_type": "stream",
     "text": [
      "136\n"
     ]
    }
   ],
   "source": [
    "print (df_class.iloc[0,0])"
   ]
  },
  {
   "cell_type": "code",
   "execution_count": 58,
   "metadata": {},
   "outputs": [
    {
     "name": "stdout",
     "output_type": "stream",
     "text": [
      "Percentage Class1: 63.0\n",
      "Percentage Class2: 47.0\n",
      "Percentage Class3: 24.0\n"
     ]
    },
    {
     "data": {
      "text/html": [
       "<div>\n",
       "<style scoped>\n",
       "    .dataframe tbody tr th:only-of-type {\n",
       "        vertical-align: middle;\n",
       "    }\n",
       "\n",
       "    .dataframe tbody tr th {\n",
       "        vertical-align: top;\n",
       "    }\n",
       "\n",
       "    .dataframe thead th {\n",
       "        text-align: right;\n",
       "    }\n",
       "</style>\n",
       "<table border=\"1\" class=\"dataframe\">\n",
       "  <thead>\n",
       "    <tr style=\"text-align: right;\">\n",
       "      <th></th>\n",
       "      <th>1</th>\n",
       "      <th>2</th>\n",
       "      <th>3</th>\n",
       "    </tr>\n",
       "  </thead>\n",
       "  <tbody>\n",
       "    <tr>\n",
       "      <th>Survived</th>\n",
       "      <td>136</td>\n",
       "      <td>87</td>\n",
       "      <td>119</td>\n",
       "    </tr>\n",
       "    <tr>\n",
       "      <th>Dead</th>\n",
       "      <td>80</td>\n",
       "      <td>97</td>\n",
       "      <td>372</td>\n",
       "    </tr>\n",
       "  </tbody>\n",
       "</table>\n",
       "</div>"
      ],
      "text/plain": [
       "            1   2    3\n",
       "Survived  136  87  119\n",
       "Dead       80  97  372"
      ]
     },
     "metadata": {},
     "output_type": "display_data"
    }
   ],
   "source": [
    "survived1 = df_class.iloc[0,0]/df_class.iloc[:,0].sum()*100\n",
    "survived2 = df_class.iloc[0,1]/df_class.iloc[:,1].sum()*100\n",
    "survived3 = df_class.iloc[0,2]/df_class.iloc[:,2].sum()*100\n",
    "print (\"Percentage Class1:\",round(survived1))\n",
    "print (\"Percentage Class2:\",round(survived2))\n",
    "print (\"Percentage Class3:\",round(survived3))\n",
    "from IPython.display import display\n",
    "display(df_class)\n",
    "df_class.plot(kind='bar',stacked='True')"
   ]
  },
  {
   "cell_type": "code",
   "execution_count": 59,
   "metadata": {},
   "outputs": [
    {
     "name": "stdout",
     "output_type": "stream",
     "text": [
      "   PassengerId  Survived  Pclass  \\\n",
      "0            1         0       3   \n",
      "1            2         1       1   \n",
      "2            3         1       3   \n",
      "3            4         1       1   \n",
      "4            5         0       3   \n",
      "\n",
      "                                                Name     Sex   Age  SibSp  \\\n",
      "0                            Braund, Mr. Owen Harris    male  22.0      1   \n",
      "1  Cumings, Mrs. John Bradley (Florence Briggs Th...  female  38.0      1   \n",
      "2                             Heikkinen, Miss. Laina  female  26.0      0   \n",
      "3       Futrelle, Mrs. Jacques Heath (Lily May Peel)  female  35.0      1   \n",
      "4                           Allen, Mr. William Henry    male  35.0      0   \n",
      "\n",
      "   Parch            Ticket     Fare Cabin Embarked  \n",
      "0      0         A/5 21171   7.2500   NaN        S  \n",
      "1      0          PC 17599  71.2833   C85        C  \n",
      "2      0  STON/O2. 3101282   7.9250   NaN        S  \n",
      "3      0            113803  53.1000  C123        S  \n",
      "4      0            373450   8.0500   NaN        S  \n"
     ]
    }
   ],
   "source": [
    "print (data.head())"
   ]
  },
  {
   "cell_type": "code",
   "execution_count": 111,
   "metadata": {},
   "outputs": [
    {
     "data": {
      "text/plain": [
       "<matplotlib.axes._subplots.AxesSubplot at 0x16e2d864da0>"
      ]
     },
     "execution_count": 111,
     "metadata": {},
     "output_type": "execute_result"
    },
    {
     "data": {
      "image/png": "[encoded data removed]",
      "text/plain": [
       "<Figure size 432x288 with 1 Axes>"
      ]
     },
     "metadata": {},
     "output_type": "display_data"
    }
   ],
   "source": [
    "survived_sex = data[data['Survived'] == 1]['Sex'].value_counts()\n",
    "dead_sex = data[data['Survived'] == 0]['Sex'].value_counts()\n",
    "df_sex = pd.DataFrame([survived_sex,dead_sex])\n",
    "df_age.index = ['Survived','Dead']\n",
    "df_age.plot(kind='bar',stacked=True,title=\"Survived/Dead by sex\")"
   ]
  },
  {
   "cell_type": "code",
   "execution_count": 115,
   "metadata": {},
   "outputs": [
    {
     "data": {
      "text/plain": [
       "<matplotlib.axes._subplots.AxesSubplot at 0x16e2db392e8>"
      ]
     },
     "execution_count": 115,
     "metadata": {},
     "output_type": "execute_result"
    },
    {
     "data": {
      "image/png": "[encoded data removed]",
      "text/plain": [
       "<Figure size 432x288 with 1 Axes>"
      ]
     },
     "metadata": {},
     "output_type": "display_data"
    }
   ],
   "source": [
    "survived_embark = data[data['Survived']==1]['Embarked'].value_counts()\n",
    "dead_embark = data[data['Survived']==1]['Embarked'].value_counts()\n",
    "df_embark = pd.DataFrame([survived_embark,dead_embark])\n",
    "df_embark.index = ['survived','dead']\n",
    "df_embark.plot(kind='bar',stacked=True,title=\"Survived/Dead by Embark\")"
   ]
  },
  {
   "cell_type": "code",
   "execution_count": 116,
   "metadata": {},
   "outputs": [
    {
     "name": "stdout",
     "output_type": "stream",
     "text": [
      "   PassengerId  Survived  Pclass  \\\n",
      "0            1         0       3   \n",
      "1            2         1       1   \n",
      "2            3         1       3   \n",
      "3            4         1       1   \n",
      "4            5         0       3   \n",
      "\n",
      "                                                Name     Sex   Age  SibSp  \\\n",
      "0                            Braund, Mr. Owen Harris    male  22.0      1   \n",
      "1  Cumings, Mrs. John Bradley (Florence Briggs Th...  female  38.0      1   \n",
      "2                             Heikkinen, Miss. Laina  female  26.0      0   \n",
      "3       Futrelle, Mrs. Jacques Heath (Lily May Peel)  female  35.0      1   \n",
      "4                           Allen, Mr. William Henry    male  35.0      0   \n",
      "\n",
      "   Parch            Ticket     Fare Cabin Embarked  \n",
      "0      0         A/5 21171   7.2500   NaN        S  \n",
      "1      0          PC 17599  71.2833   C85        C  \n",
      "2      0  STON/O2. 3101282   7.9250   NaN        S  \n",
      "3      0            113803  53.1000  C123        S  \n",
      "4      0            373450   8.0500   NaN        S  \n"
     ]
    }
   ],
   "source": [
    "print (data.head())"
   ]
  },
  {
   "cell_type": "code",
   "execution_count": 121,
   "metadata": {},
   "outputs": [],
   "source": [
    "x = data.drop(['PassengerId','SibSp','Parch','Ticket','Fare','Cabin'],axis='columns')"
   ]
  },
  {
   "cell_type": "code",
   "execution_count": 123,
   "metadata": {},
   "outputs": [
    {
     "name": "stdout",
     "output_type": "stream",
     "text": [
      "   Survived  Pclass                                               Name  \\\n",
      "0         0       3                            Braund, Mr. Owen Harris   \n",
      "1         1       1  Cumings, Mrs. John Bradley (Florence Briggs Th...   \n",
      "2         1       3                             Heikkinen, Miss. Laina   \n",
      "3         1       1       Futrelle, Mrs. Jacques Heath (Lily May Peel)   \n",
      "4         0       3                           Allen, Mr. William Henry   \n",
      "\n",
      "      Sex   Age Embarked  \n",
      "0    male  22.0        S  \n",
      "1  female  38.0        C  \n",
      "2  female  26.0        S  \n",
      "3  female  35.0        S  \n",
      "4    male  35.0        S  \n"
     ]
    }
   ],
   "source": [
    "print (x.head())"
   ]
  },
  {
   "cell_type": "code",
   "execution_count": 124,
   "metadata": {},
   "outputs": [],
   "source": [
    "y = x.Survived"
   ]
  },
  {
   "cell_type": "code",
   "execution_count": 138,
   "metadata": {},
   "outputs": [
    {
     "name": "stdout",
     "output_type": "stream",
     "text": [
      "2\n"
     ]
    }
   ],
   "source": [
    "from sklearn.preprocessing import LabelEncoder\n",
    "labelEncoder_x = LabelEncoder()\n",
    "x.Sex=labelEncoder_x.fit_transform(x.Sex)\n",
    "print (sum(x.Embarked.isnull()))"
   ]
  },
  {
   "cell_type": "code",
   "execution_count": 141,
   "metadata": {},
   "outputs": [],
   "source": [
    "row_index = x.Embarked.isnull()\n",
    "x.loc[row_index,'Embarked'] = 'S'"
   ]
  },
  {
   "cell_type": "code",
   "execution_count": 146,
   "metadata": {},
   "outputs": [],
   "source": [
    "x = x.drop(['Embarked_S'], axis=1)"
   ]
  },
  {
   "cell_type": "code",
   "execution_count": 147,
   "metadata": {},
   "outputs": [
    {
     "name": "stdout",
     "output_type": "stream",
     "text": [
      "     Pclass                                               Name  Sex   Age  \\\n",
      "0         3                            Braund, Mr. Owen Harris    1  22.0   \n",
      "1         1  Cumings, Mrs. John Bradley (Florence Briggs Th...    0  38.0   \n",
      "2         3                             Heikkinen, Miss. Laina    0  26.0   \n",
      "3         1       Futrelle, Mrs. Jacques Heath (Lily May Peel)    0  35.0   \n",
      "4         3                           Allen, Mr. William Henry    1  35.0   \n",
      "5         3                                   Moran, Mr. James    1   NaN   \n",
      "6         1                            McCarthy, Mr. Timothy J    1  54.0   \n",
      "7         3                     Palsson, Master. Gosta Leonard    1   2.0   \n",
      "8         3  Johnson, Mrs. Oscar W (Elisabeth Vilhelmina Berg)    0  27.0   \n",
      "9         2                Nasser, Mrs. Nicholas (Adele Achem)    0  14.0   \n",
      "10        3                    Sandstrom, Miss. Marguerite Rut    0   4.0   \n",
      "11        1                           Bonnell, Miss. Elizabeth    0  58.0   \n",
      "12        3                     Saundercock, Mr. William Henry    1  20.0   \n",
      "13        3                        Andersson, Mr. Anders Johan    1  39.0   \n",
      "14        3               Vestrom, Miss. Hulda Amanda Adolfina    0  14.0   \n",
      "15        2                   Hewlett, Mrs. (Mary D Kingcome)     0  55.0   \n",
      "16        3                               Rice, Master. Eugene    1   2.0   \n",
      "17        2                       Williams, Mr. Charles Eugene    1   NaN   \n",
      "18        3  Vander Planke, Mrs. Julius (Emelia Maria Vande...    0  31.0   \n",
      "19        3                            Masselmani, Mrs. Fatima    0   NaN   \n",
      "20        2                               Fynney, Mr. Joseph J    1  35.0   \n",
      "21        2                              Beesley, Mr. Lawrence    1  34.0   \n",
      "22        3                        McGowan, Miss. Anna \"Annie\"    0  15.0   \n",
      "23        1                       Sloper, Mr. William Thompson    1  28.0   \n",
      "24        3                      Palsson, Miss. Torborg Danira    0   8.0   \n",
      "25        3  Asplund, Mrs. Carl Oscar (Selma Augusta Emilia...    0  38.0   \n",
      "26        3                            Emir, Mr. Farred Chehab    1   NaN   \n",
      "27        1                     Fortune, Mr. Charles Alexander    1  19.0   \n",
      "28        3                      O'Dwyer, Miss. Ellen \"Nellie\"    0   NaN   \n",
      "29        3                                Todoroff, Mr. Lalio    1   NaN   \n",
      "..      ...                                                ...  ...   ...   \n",
      "861       2                        Giles, Mr. Frederick Edward    1  21.0   \n",
      "862       1  Swift, Mrs. Frederick Joel (Margaret Welles Ba...    0  48.0   \n",
      "863       3                  Sage, Miss. Dorothy Edith \"Dolly\"    0   NaN   \n",
      "864       2                             Gill, Mr. John William    1  24.0   \n",
      "865       2                           Bystrom, Mrs. (Karolina)    0  42.0   \n",
      "866       2                       Duran y More, Miss. Asuncion    0  27.0   \n",
      "867       1               Roebling, Mr. Washington Augustus II    1  31.0   \n",
      "868       3                        van Melkebeke, Mr. Philemon    1   NaN   \n",
      "869       3                    Johnson, Master. Harold Theodor    1   4.0   \n",
      "870       3                                  Balkic, Mr. Cerin    1  26.0   \n",
      "871       1   Beckwith, Mrs. Richard Leonard (Sallie Monypeny)    0  47.0   \n",
      "872       1                           Carlsson, Mr. Frans Olof    1  33.0   \n",
      "873       3                        Vander Cruyssen, Mr. Victor    1  47.0   \n",
      "874       2              Abelson, Mrs. Samuel (Hannah Wizosky)    0  28.0   \n",
      "875       3                   Najib, Miss. Adele Kiamie \"Jane\"    0  15.0   \n",
      "876       3                      Gustafsson, Mr. Alfred Ossian    1  20.0   \n",
      "877       3                               Petroff, Mr. Nedelio    1  19.0   \n",
      "878       3                                 Laleff, Mr. Kristo    1   NaN   \n",
      "879       1      Potter, Mrs. Thomas Jr (Lily Alexenia Wilson)    0  56.0   \n",
      "880       2       Shelley, Mrs. William (Imanita Parrish Hall)    0  25.0   \n",
      "881       3                                 Markun, Mr. Johann    1  33.0   \n",
      "882       3                       Dahlberg, Miss. Gerda Ulrika    0  22.0   \n",
      "883       2                      Banfield, Mr. Frederick James    1  28.0   \n",
      "884       3                             Sutehall, Mr. Henry Jr    1  25.0   \n",
      "885       3               Rice, Mrs. William (Margaret Norton)    0  39.0   \n",
      "886       2                              Montvila, Rev. Juozas    1  27.0   \n",
      "887       1                       Graham, Miss. Margaret Edith    0  19.0   \n",
      "888       3           Johnston, Miss. Catherine Helen \"Carrie\"    0   NaN   \n",
      "889       1                              Behr, Mr. Karl Howell    1  26.0   \n",
      "890       3                                Dooley, Mr. Patrick    1  32.0   \n",
      "\n",
      "     Embarked_C  Embarked_Q  \n",
      "0             0           0  \n",
      "1             1           0  \n",
      "2             0           0  \n",
      "3             0           0  \n",
      "4             0           0  \n",
      "5             0           1  \n",
      "6             0           0  \n",
      "7             0           0  \n",
      "8             0           0  \n",
      "9             1           0  \n",
      "10            0           0  \n",
      "11            0           0  \n",
      "12            0           0  \n",
      "13            0           0  \n",
      "14            0           0  \n",
      "15            0           0  \n",
      "16            0           1  \n",
      "17            0           0  \n",
      "18            0           0  \n",
      "19            1           0  \n",
      "20            0           0  \n",
      "21            0           0  \n",
      "22            0           1  \n",
      "23            0           0  \n",
      "24            0           0  \n",
      "25            0           0  \n",
      "26            1           0  \n",
      "27            0           0  \n",
      "28            0           1  \n",
      "29            0           0  \n",
      "..          ...         ...  \n",
      "861           0           0  \n",
      "862           0           0  \n",
      "863           0           0  \n",
      "864           0           0  \n",
      "865           0           0  \n",
      "866           1           0  \n",
      "867           0           0  \n",
      "868           0           0  \n",
      "869           0           0  \n",
      "870           0           0  \n",
      "871           0           0  \n",
      "872           0           0  \n",
      "873           0           0  \n",
      "874           1           0  \n",
      "875           1           0  \n",
      "876           0           0  \n",
      "877           0           0  \n",
      "878           0           0  \n",
      "879           1           0  \n",
      "880           0           0  \n",
      "881           0           0  \n",
      "882           0           0  \n",
      "883           0           0  \n",
      "884           0           0  \n",
      "885           0           1  \n",
      "886           0           0  \n",
      "887           0           0  \n",
      "888           0           0  \n",
      "889           1           0  \n",
      "890           0           1  \n",
      "\n",
      "[891 rows x 6 columns]\n"
     ]
    }
   ],
   "source": [
    "print (x)"
   ]
  },
  {
   "cell_type": "code",
   "execution_count": 148,
   "metadata": {},
   "outputs": [
    {
     "name": "stdout",
     "output_type": "stream",
     "text": [
      "177\n"
     ]
    }
   ],
   "source": [
    "print (sum(x.Age.isnull()))"
   ]
  },
  {
   "cell_type": "code",
   "execution_count": 156,
   "metadata": {},
   "outputs": [
    {
     "ename": "KeyError",
     "evalue": "'Name'",
     "output_type": "error",
     "traceback": [
      "\u001b[1;31m---------------------------------------------------------------------------\u001b[0m",
      "\u001b[1;31mKeyError\u001b[0m                                  Traceback (most recent call last)",
      "\u001b[1;32m<ipython-input-156-ff9083ec328e>\u001b[0m in \u001b[0;36m<module>\u001b[1;34m()\u001b[0m\n\u001b[0;32m      3\u001b[0m \u001b[0max\u001b[0m\u001b[1;33m=\u001b[0m\u001b[0mplt\u001b[0m\u001b[1;33m.\u001b[0m\u001b[0msubplot\u001b[0m\u001b[1;33m(\u001b[0m\u001b[1;33m)\u001b[0m\u001b[1;33m\u001b[0m\u001b[0m\n\u001b[0;32m      4\u001b[0m \u001b[0max\u001b[0m\u001b[1;33m.\u001b[0m\u001b[0mset_ylabel\u001b[0m\u001b[1;33m(\u001b[0m\u001b[1;34m'Average age'\u001b[0m\u001b[1;33m)\u001b[0m\u001b[1;33m\u001b[0m\u001b[0m\n\u001b[1;32m----> 5\u001b[1;33m \u001b[0mx\u001b[0m\u001b[1;33m.\u001b[0m\u001b[0mgroupby\u001b[0m\u001b[1;33m(\u001b[0m\u001b[1;34m'Name'\u001b[0m\u001b[1;33m)\u001b[0m\u001b[1;33m.\u001b[0m\u001b[0mmean\u001b[0m\u001b[1;33m(\u001b[0m\u001b[1;33m)\u001b[0m\u001b[1;33m[\u001b[0m\u001b[1;34m'Age'\u001b[0m\u001b[1;33m]\u001b[0m\u001b[1;33m.\u001b[0m\u001b[0mplot\u001b[0m\u001b[1;33m(\u001b[0m\u001b[0mkind\u001b[0m\u001b[1;33m=\u001b[0m\u001b[1;34m'bar'\u001b[0m\u001b[1;33m,\u001b[0m \u001b[0max\u001b[0m\u001b[1;33m=\u001b[0m\u001b[0max\u001b[0m\u001b[1;33m)\u001b[0m\u001b[1;33m\u001b[0m\u001b[0m\n\u001b[0m\u001b[0;32m      6\u001b[0m \u001b[0mtitle_mean_age\u001b[0m\u001b[1;33m=\u001b[0m\u001b[1;33m[\u001b[0m\u001b[1;33m]\u001b[0m\u001b[1;33m\u001b[0m\u001b[0m\n\u001b[0;32m      7\u001b[0m \u001b[0mtitle_mean_age\u001b[0m\u001b[1;33m.\u001b[0m\u001b[0mappend\u001b[0m\u001b[1;33m(\u001b[0m\u001b[0mlist\u001b[0m\u001b[1;33m(\u001b[0m\u001b[0mset\u001b[0m\u001b[1;33m(\u001b[0m\u001b[0mx\u001b[0m\u001b[1;33m.\u001b[0m\u001b[0mName\u001b[0m\u001b[1;33m)\u001b[0m\u001b[1;33m)\u001b[0m\u001b[1;33m)\u001b[0m\u001b[1;33m\u001b[0m\u001b[0m\n",
      "\u001b[1;32m~\\Anaconda3\\lib\\site-packages\\pandas\\core\\generic.py\u001b[0m in \u001b[0;36mgroupby\u001b[1;34m(self, by, axis, level, as_index, sort, group_keys, squeeze, observed, **kwargs)\u001b[0m\n\u001b[0;32m   6663\u001b[0m         return groupby(self, by=by, axis=axis, level=level, as_index=as_index,\n\u001b[0;32m   6664\u001b[0m                        \u001b[0msort\u001b[0m\u001b[1;33m=\u001b[0m\u001b[0msort\u001b[0m\u001b[1;33m,\u001b[0m \u001b[0mgroup_keys\u001b[0m\u001b[1;33m=\u001b[0m\u001b[0mgroup_keys\u001b[0m\u001b[1;33m,\u001b[0m \u001b[0msqueeze\u001b[0m\u001b[1;33m=\u001b[0m\u001b[0msqueeze\u001b[0m\u001b[1;33m,\u001b[0m\u001b[1;33m\u001b[0m\u001b[0m\n\u001b[1;32m-> 6665\u001b[1;33m                        observed=observed, **kwargs)\n\u001b[0m\u001b[0;32m   6666\u001b[0m \u001b[1;33m\u001b[0m\u001b[0m\n\u001b[0;32m   6667\u001b[0m     def asfreq(self, freq, method=None, how=None, normalize=False,\n",
      "\u001b[1;32m~\\Anaconda3\\lib\\site-packages\\pandas\\core\\groupby\\groupby.py\u001b[0m in \u001b[0;36mgroupby\u001b[1;34m(obj, by, **kwds)\u001b[0m\n\u001b[0;32m   2150\u001b[0m         \u001b[1;32mraise\u001b[0m \u001b[0mTypeError\u001b[0m\u001b[1;33m(\u001b[0m\u001b[1;34m'invalid type: %s'\u001b[0m \u001b[1;33m%\u001b[0m \u001b[0mtype\u001b[0m\u001b[1;33m(\u001b[0m\u001b[0mobj\u001b[0m\u001b[1;33m)\u001b[0m\u001b[1;33m)\u001b[0m\u001b[1;33m\u001b[0m\u001b[0m\n\u001b[0;32m   2151\u001b[0m \u001b[1;33m\u001b[0m\u001b[0m\n\u001b[1;32m-> 2152\u001b[1;33m     \u001b[1;32mreturn\u001b[0m \u001b[0mklass\u001b[0m\u001b[1;33m(\u001b[0m\u001b[0mobj\u001b[0m\u001b[1;33m,\u001b[0m \u001b[0mby\u001b[0m\u001b[1;33m,\u001b[0m \u001b[1;33m**\u001b[0m\u001b[0mkwds\u001b[0m\u001b[1;33m)\u001b[0m\u001b[1;33m\u001b[0m\u001b[0m\n\u001b[0m\u001b[0;32m   2153\u001b[0m \u001b[1;33m\u001b[0m\u001b[0m\n\u001b[0;32m   2154\u001b[0m \u001b[1;33m\u001b[0m\u001b[0m\n",
      "\u001b[1;32m~\\Anaconda3\\lib\\site-packages\\pandas\\core\\groupby\\groupby.py\u001b[0m in \u001b[0;36m__init__\u001b[1;34m(self, obj, keys, axis, level, grouper, exclusions, selection, as_index, sort, group_keys, squeeze, observed, **kwargs)\u001b[0m\n\u001b[0;32m    597\u001b[0m                                                     \u001b[0msort\u001b[0m\u001b[1;33m=\u001b[0m\u001b[0msort\u001b[0m\u001b[1;33m,\u001b[0m\u001b[1;33m\u001b[0m\u001b[0m\n\u001b[0;32m    598\u001b[0m                                                     \u001b[0mobserved\u001b[0m\u001b[1;33m=\u001b[0m\u001b[0mobserved\u001b[0m\u001b[1;33m,\u001b[0m\u001b[1;33m\u001b[0m\u001b[0m\n\u001b[1;32m--> 599\u001b[1;33m                                                     mutated=self.mutated)\n\u001b[0m\u001b[0;32m    600\u001b[0m \u001b[1;33m\u001b[0m\u001b[0m\n\u001b[0;32m    601\u001b[0m         \u001b[0mself\u001b[0m\u001b[1;33m.\u001b[0m\u001b[0mobj\u001b[0m \u001b[1;33m=\u001b[0m \u001b[0mobj\u001b[0m\u001b[1;33m\u001b[0m\u001b[0m\n",
      "\u001b[1;32m~\\Anaconda3\\lib\\site-packages\\pandas\\core\\groupby\\groupby.py\u001b[0m in \u001b[0;36m_get_grouper\u001b[1;34m(obj, key, axis, level, sort, observed, mutated, validate)\u001b[0m\n\u001b[0;32m   3289\u001b[0m                 \u001b[0min_axis\u001b[0m\u001b[1;33m,\u001b[0m \u001b[0mname\u001b[0m\u001b[1;33m,\u001b[0m \u001b[0mlevel\u001b[0m\u001b[1;33m,\u001b[0m \u001b[0mgpr\u001b[0m \u001b[1;33m=\u001b[0m \u001b[1;32mFalse\u001b[0m\u001b[1;33m,\u001b[0m \u001b[1;32mNone\u001b[0m\u001b[1;33m,\u001b[0m \u001b[0mgpr\u001b[0m\u001b[1;33m,\u001b[0m \u001b[1;32mNone\u001b[0m\u001b[1;33m\u001b[0m\u001b[0m\n\u001b[0;32m   3290\u001b[0m             \u001b[1;32melse\u001b[0m\u001b[1;33m:\u001b[0m\u001b[1;33m\u001b[0m\u001b[0m\n\u001b[1;32m-> 3291\u001b[1;33m                 \u001b[1;32mraise\u001b[0m \u001b[0mKeyError\u001b[0m\u001b[1;33m(\u001b[0m\u001b[0mgpr\u001b[0m\u001b[1;33m)\u001b[0m\u001b[1;33m\u001b[0m\u001b[0m\n\u001b[0m\u001b[0;32m   3292\u001b[0m         \u001b[1;32melif\u001b[0m \u001b[0misinstance\u001b[0m\u001b[1;33m(\u001b[0m\u001b[0mgpr\u001b[0m\u001b[1;33m,\u001b[0m \u001b[0mGrouper\u001b[0m\u001b[1;33m)\u001b[0m \u001b[1;32mand\u001b[0m \u001b[0mgpr\u001b[0m\u001b[1;33m.\u001b[0m\u001b[0mkey\u001b[0m \u001b[1;32mis\u001b[0m \u001b[1;32mnot\u001b[0m \u001b[1;32mNone\u001b[0m\u001b[1;33m:\u001b[0m\u001b[1;33m\u001b[0m\u001b[0m\n\u001b[0;32m   3293\u001b[0m             \u001b[1;31m# Add key to exclusions\u001b[0m\u001b[1;33m\u001b[0m\u001b[1;33m\u001b[0m\u001b[0m\n",
      "\u001b[1;31mKeyError\u001b[0m: 'Name'"
     ]
    },
    {
     "data": {
      "image/png": "[encoded data removed]",
      "text/plain": [
       "<Figure size 432x288 with 1 Axes>"
      ]
     },
     "metadata": {},
     "output_type": "display_data"
    }
   ],
   "source": [
    "got = data.Name.str.split(',').str[1]\n",
    "x.iloc[:,1]=pd.DataFrame(got).Name.str.split('\\s+').str[1]\n",
    "ax=plt.subplot()\n",
    "ax.set_ylabel('Average age')\n",
    "x.groupby('Name').mean()['Age'].plot(kind='bar', ax=ax)\n",
    "title_mean_age=[]\n",
    "title_mean_age.append(list(set(x.Name)))\n",
    "title_mean_age.append(x.groupby('Name').Age.mean())\n",
    "title_mean_age\n",
    "n_training = data.shape[0]\n",
    "n_titles = len(title_mean_age[1])\n",
    "for i in range(0, n_training):\n",
    "    if np.isnan(x.Age[i])==True:\n",
    "        for j in range(0, n_titles):\n",
    "            if x.Name[i] == title_mean_age[0][j]:\n",
    "                x.Age[i] = title_mean_age[1][j]\n",
    "\n",
    "x = x.drop(['Name'],axis=1)"
   ]
  },
  {
   "cell_type": "code",
   "execution_count": 157,
   "metadata": {},
   "outputs": [
    {
     "data": {
      "text/html": [
       "<div>\n",
       "<style scoped>\n",
       "    .dataframe tbody tr th:only-of-type {\n",
       "        vertical-align: middle;\n",
       "    }\n",
       "\n",
       "    .dataframe tbody tr th {\n",
       "        vertical-align: top;\n",
       "    }\n",
       "\n",
       "    .dataframe thead th {\n",
       "        text-align: right;\n",
       "    }\n",
       "</style>\n",
       "<table border=\"1\" class=\"dataframe\">\n",
       "  <thead>\n",
       "    <tr style=\"text-align: right;\">\n",
       "      <th></th>\n",
       "      <th>Pclass</th>\n",
       "      <th>Sex</th>\n",
       "      <th>Age</th>\n",
       "      <th>Embarked_C</th>\n",
       "      <th>Embarked_Q</th>\n",
       "    </tr>\n",
       "  </thead>\n",
       "  <tbody>\n",
       "    <tr>\n",
       "      <th>0</th>\n",
       "      <td>3</td>\n",
       "      <td>Mr.</td>\n",
       "      <td>1.0</td>\n",
       "      <td>0</td>\n",
       "      <td>0</td>\n",
       "    </tr>\n",
       "    <tr>\n",
       "      <th>1</th>\n",
       "      <td>1</td>\n",
       "      <td>Mrs.</td>\n",
       "      <td>1.0</td>\n",
       "      <td>1</td>\n",
       "      <td>0</td>\n",
       "    </tr>\n",
       "    <tr>\n",
       "      <th>2</th>\n",
       "      <td>3</td>\n",
       "      <td>Miss.</td>\n",
       "      <td>1.0</td>\n",
       "      <td>0</td>\n",
       "      <td>0</td>\n",
       "    </tr>\n",
       "    <tr>\n",
       "      <th>3</th>\n",
       "      <td>1</td>\n",
       "      <td>Mrs.</td>\n",
       "      <td>1.0</td>\n",
       "      <td>0</td>\n",
       "      <td>0</td>\n",
       "    </tr>\n",
       "    <tr>\n",
       "      <th>4</th>\n",
       "      <td>3</td>\n",
       "      <td>Mr.</td>\n",
       "      <td>1.0</td>\n",
       "      <td>0</td>\n",
       "      <td>0</td>\n",
       "    </tr>\n",
       "  </tbody>\n",
       "</table>\n",
       "</div>"
      ],
      "text/plain": [
       "   Pclass    Sex  Age  Embarked_C  Embarked_Q\n",
       "0       3    Mr.  1.0           0           0\n",
       "1       1   Mrs.  1.0           1           0\n",
       "2       3  Miss.  1.0           0           0\n",
       "3       1   Mrs.  1.0           0           0\n",
       "4       3    Mr.  1.0           0           0"
      ]
     },
     "execution_count": 157,
     "metadata": {},
     "output_type": "execute_result"
    }
   ],
   "source": [
    "for i in range(0, n_training):\n",
    "    if x.Age[i] > 18:\n",
    "        x.Age[i]=0\n",
    "    else:\n",
    "        x.Age[i]=1\n",
    "x.head()"
   ]
  },
  {
   "cell_type": "code",
   "execution_count": 153,
   "metadata": {},
   "outputs": [
    {
     "name": "stdout",
     "output_type": "stream",
     "text": [
      "     Pclass      Sex  Age  Embarked_C  Embarked_Q\n",
      "0         3      Mr.  0.0           0           0\n",
      "1         1     Mrs.  0.0           1           0\n",
      "2         3    Miss.  0.0           0           0\n",
      "3         1     Mrs.  0.0           0           0\n",
      "4         3      Mr.  0.0           0           0\n",
      "5         3      Mr.  1.0           0           1\n",
      "6         1      Mr.  0.0           0           0\n",
      "7         3  Master.  1.0           0           0\n",
      "8         3     Mrs.  0.0           0           0\n",
      "9         2     Mrs.  1.0           1           0\n",
      "10        3    Miss.  1.0           0           0\n",
      "11        1    Miss.  0.0           0           0\n",
      "12        3      Mr.  0.0           0           0\n",
      "13        3      Mr.  0.0           0           0\n",
      "14        3    Miss.  1.0           0           0\n",
      "15        2     Mrs.  0.0           0           0\n",
      "16        3  Master.  1.0           0           1\n",
      "17        2      Mr.  1.0           0           0\n",
      "18        3     Mrs.  0.0           0           0\n",
      "19        3     Mrs.  0.0           1           0\n",
      "20        2      Mr.  0.0           0           0\n",
      "21        2      Mr.  0.0           0           0\n",
      "22        3    Miss.  1.0           0           1\n",
      "23        1      Mr.  0.0           0           0\n",
      "24        3    Miss.  1.0           0           0\n",
      "25        3     Mrs.  0.0           0           0\n",
      "26        3      Mr.  1.0           1           0\n",
      "27        1      Mr.  0.0           0           0\n",
      "28        3    Miss.  0.0           0           1\n",
      "29        3      Mr.  1.0           0           0\n",
      "..      ...      ...  ...         ...         ...\n",
      "861       2      Mr.  0.0           0           0\n",
      "862       1     Mrs.  0.0           0           0\n",
      "863       3    Miss.  0.0           0           0\n",
      "864       2      Mr.  0.0           0           0\n",
      "865       2     Mrs.  0.0           0           0\n",
      "866       2    Miss.  0.0           1           0\n",
      "867       1      Mr.  0.0           0           0\n",
      "868       3      Mr.  1.0           0           0\n",
      "869       3  Master.  1.0           0           0\n",
      "870       3      Mr.  0.0           0           0\n",
      "871       1     Mrs.  0.0           0           0\n",
      "872       1      Mr.  0.0           0           0\n",
      "873       3      Mr.  0.0           0           0\n",
      "874       2     Mrs.  0.0           1           0\n",
      "875       3    Miss.  1.0           1           0\n",
      "876       3      Mr.  0.0           0           0\n",
      "877       3      Mr.  0.0           0           0\n",
      "878       3      Mr.  1.0           0           0\n",
      "879       1     Mrs.  0.0           1           0\n",
      "880       2     Mrs.  0.0           0           0\n",
      "881       3      Mr.  0.0           0           0\n",
      "882       3    Miss.  0.0           0           0\n",
      "883       2      Mr.  0.0           0           0\n",
      "884       3      Mr.  0.0           0           0\n",
      "885       3     Mrs.  0.0           0           1\n",
      "886       2     Rev.  0.0           0           0\n",
      "887       1    Miss.  0.0           0           0\n",
      "888       3    Miss.  0.0           0           0\n",
      "889       1      Mr.  0.0           1           0\n",
      "890       3      Mr.  0.0           0           1\n",
      "\n",
      "[891 rows x 5 columns]\n"
     ]
    }
   ],
   "source": [
    "print (x)"
   ]
  },
  {
   "cell_type": "code",
   "execution_count": 158,
   "metadata": {},
   "outputs": [],
   "source": [
    "from sklearn.preprocessing import LabelEncoder\n",
    "labelEncoder_x = LabelEncoder()\n",
    "x.Sex=labelEncoder_x.fit_transform(x.Sex)"
   ]
  },
  {
   "cell_type": "code",
   "execution_count": 164,
   "metadata": {},
   "outputs": [
    {
     "name": "stdout",
     "output_type": "stream",
     "text": [
      "     Pclass  Sex  Age  Embarked_C  Embarked_Q\n",
      "0         3   11  1.0           0           0\n",
      "1         1   12  1.0           1           0\n",
      "2         3    8  1.0           0           0\n",
      "3         1   12  1.0           0           0\n",
      "4         3   11  1.0           0           0\n",
      "5         3   11  1.0           0           1\n",
      "6         1   11  1.0           0           0\n",
      "7         3    7  1.0           0           0\n",
      "8         3   12  1.0           0           0\n",
      "9         2   12  1.0           1           0\n",
      "10        3    8  1.0           0           0\n",
      "11        1    8  1.0           0           0\n",
      "12        3   11  1.0           0           0\n",
      "13        3   11  1.0           0           0\n",
      "14        3    8  1.0           0           0\n",
      "15        2   12  1.0           0           0\n",
      "16        3    7  1.0           0           1\n",
      "17        2   11  1.0           0           0\n",
      "18        3   12  1.0           0           0\n",
      "19        3   12  1.0           1           0\n",
      "20        2   11  1.0           0           0\n",
      "21        2   11  1.0           0           0\n",
      "22        3    8  1.0           0           1\n",
      "23        1   11  1.0           0           0\n",
      "24        3    8  1.0           0           0\n",
      "25        3   12  1.0           0           0\n",
      "26        3   11  1.0           1           0\n",
      "27        1   11  1.0           0           0\n",
      "28        3    8  1.0           0           1\n",
      "29        3   11  1.0           0           0\n",
      "..      ...  ...  ...         ...         ...\n",
      "861       2   11  1.0           0           0\n",
      "862       1   12  1.0           0           0\n",
      "863       3    8  1.0           0           0\n",
      "864       2   11  1.0           0           0\n",
      "865       2   12  1.0           0           0\n",
      "866       2    8  1.0           1           0\n",
      "867       1   11  1.0           0           0\n",
      "868       3   11  1.0           0           0\n",
      "869       3    7  1.0           0           0\n",
      "870       3   11  1.0           0           0\n",
      "871       1   12  1.0           0           0\n",
      "872       1   11  1.0           0           0\n",
      "873       3   11  1.0           0           0\n",
      "874       2   12  1.0           1           0\n",
      "875       3    8  1.0           1           0\n",
      "876       3   11  1.0           0           0\n",
      "877       3   11  1.0           0           0\n",
      "878       3   11  1.0           0           0\n",
      "879       1   12  1.0           1           0\n",
      "880       2   12  1.0           0           0\n",
      "881       3   11  1.0           0           0\n",
      "882       3    8  1.0           0           0\n",
      "883       2   11  1.0           0           0\n",
      "884       3   11  1.0           0           0\n",
      "885       3   12  1.0           0           1\n",
      "886       2   14  1.0           0           0\n",
      "887       1    8  1.0           0           0\n",
      "888       3    8  1.0           0           0\n",
      "889       1   11  1.0           1           0\n",
      "890       3   11  1.0           0           1\n",
      "\n",
      "[891 rows x 5 columns]\n"
     ]
    }
   ],
   "source": [
    "print (x)"
   ]
  },
  {
   "cell_type": "code",
   "execution_count": null,
   "metadata": {},
   "outputs": [],
   "source": []
  }
 ],
 "metadata": {
  "kernelspec": {
   "display_name": "Python 3",
   "language": "python",
   "name": "python3"
  },
  "language_info": {
   "codemirror_mode": {
    "name": "ipython",
    "version": 3
   },
   "file_extension": ".py",
   "mimetype": "text/x-python",
   "name": "python",
   "nbconvert_exporter": "python",
   "pygments_lexer": "ipython3",
   "version": "3.7.0"
  }
 },
 "nbformat": 4,
 "nbformat_minor": 2
}
